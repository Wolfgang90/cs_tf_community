{
 "cells": [
  {
   "cell_type": "code",
   "execution_count": 195,
   "metadata": {},
   "outputs": [],
   "source": [
    "import tensorflow as tf\n",
    "import matplotlib.pyplot as plt\n",
    "%matplotlib inline\n",
    "\n",
    "import numpy as np"
   ]
  },
  {
   "cell_type": "code",
   "execution_count": 196,
   "metadata": {},
   "outputs": [],
   "source": [
    "def normalize(features):\n",
    "    features_mean = np.mean(features, axis=0)\n",
    "    features_std = np.std(features, axis=0)\n",
    "    return (features - features_mean) / features_std"
   ]
  },
  {
   "cell_type": "code",
   "execution_count": 197,
   "metadata": {},
   "outputs": [],
   "source": [
    "(x_train, y_train), (x_test, y_test) = tf.keras.datasets.boston_housing.load_data()\n",
    "x_train = normalize(x_train)\n",
    "x_test = normalize(x_test)"
   ]
  },
  {
   "cell_type": "code",
   "execution_count": 198,
   "metadata": {},
   "outputs": [],
   "source": [
    "model_input_size = len(x_train[0])"
   ]
  },
  {
   "cell_type": "code",
   "execution_count": 199,
   "metadata": {},
   "outputs": [],
   "source": [
    "model = tf.keras.Sequential()\n",
    "model.add(tf.keras.layers.Dense(8, input_shape=(model_input_size,)))\n",
    "model.add(tf.keras.layers.Dense(4, activation=tf.nn.relu))\n",
    "model.add(tf.keras.layers.Dense(1))\n",
    "\n",
    "opt = keras.optimizers.Adam(learning_rate=0.02)\n",
    "model.compile(optimizer=opt, loss='mse', metrics=['mae', 'mse'])"
   ]
  },
  {
   "cell_type": "code",
   "execution_count": 200,
   "metadata": {},
   "outputs": [
    {
     "name": "stdout",
     "output_type": "stream",
     "text": [
      "Epoch 1/20\n",
      "23/23 [==============================] - 0s 12ms/step - loss: 440.7494 - mae: 19.2267 - mse: 440.7494 - val_loss: 162.3727 - val_mae: 11.1160 - val_mse: 162.3727\n",
      "Epoch 2/20\n",
      "23/23 [==============================] - 0s 4ms/step - loss: 175.2801 - mae: 10.6745 - mse: 175.2801 - val_loss: 103.0439 - val_mae: 8.0981 - val_mse: 103.0439\n",
      "Epoch 3/20\n",
      "23/23 [==============================] - 0s 4ms/step - loss: 95.7733 - mae: 7.0439 - mse: 95.7733 - val_loss: 84.1082 - val_mae: 7.1885 - val_mse: 84.1082\n",
      "Epoch 4/20\n",
      "23/23 [==============================] - 0s 4ms/step - loss: 67.7138 - mae: 5.6495 - mse: 67.7138 - val_loss: 48.3048 - val_mae: 5.4927 - val_mse: 48.3048\n",
      "Epoch 5/20\n",
      "23/23 [==============================] - 0s 4ms/step - loss: 43.4925 - mae: 4.3836 - mse: 43.4925 - val_loss: 27.8732 - val_mae: 3.9515 - val_mse: 27.8732\n",
      "Epoch 6/20\n",
      "23/23 [==============================] - 0s 4ms/step - loss: 30.0785 - mae: 3.8229 - mse: 30.0785 - val_loss: 23.6818 - val_mae: 3.3745 - val_mse: 23.6818\n",
      "Epoch 7/20\n",
      "23/23 [==============================] - 0s 4ms/step - loss: 25.2968 - mae: 3.5786 - mse: 25.2968 - val_loss: 23.3283 - val_mae: 3.3576 - val_mse: 23.3283\n",
      "Epoch 8/20\n",
      "23/23 [==============================] - 0s 4ms/step - loss: 23.3727 - mae: 3.4604 - mse: 23.3727 - val_loss: 19.4287 - val_mae: 3.0152 - val_mse: 19.4287\n",
      "Epoch 9/20\n",
      "23/23 [==============================] - 0s 4ms/step - loss: 21.7360 - mae: 3.3162 - mse: 21.7360 - val_loss: 19.0958 - val_mae: 3.3271 - val_mse: 19.0958\n",
      "Epoch 10/20\n",
      "23/23 [==============================] - 0s 4ms/step - loss: 21.0046 - mae: 3.2061 - mse: 21.0046 - val_loss: 15.4088 - val_mae: 2.9123 - val_mse: 15.4088\n",
      "Epoch 11/20\n",
      "23/23 [==============================] - 0s 4ms/step - loss: 19.5612 - mae: 3.2085 - mse: 19.5612 - val_loss: 17.0407 - val_mae: 3.1920 - val_mse: 17.0407\n",
      "Epoch 12/20\n",
      "23/23 [==============================] - 0s 4ms/step - loss: 19.0366 - mae: 3.0817 - mse: 19.0366 - val_loss: 14.9709 - val_mae: 2.9180 - val_mse: 14.9709\n",
      "Epoch 13/20\n",
      "23/23 [==============================] - 0s 4ms/step - loss: 18.0714 - mae: 2.9890 - mse: 18.0714 - val_loss: 14.8710 - val_mae: 3.0632 - val_mse: 14.8710\n",
      "Epoch 14/20\n",
      "23/23 [==============================] - 0s 4ms/step - loss: 16.6143 - mae: 2.9173 - mse: 16.6143 - val_loss: 12.7171 - val_mae: 2.7005 - val_mse: 12.7171\n",
      "Epoch 15/20\n",
      "23/23 [==============================] - 0s 4ms/step - loss: 15.7507 - mae: 2.8134 - mse: 15.7507 - val_loss: 11.3107 - val_mae: 2.5937 - val_mse: 11.3107\n",
      "Epoch 16/20\n",
      "23/23 [==============================] - 0s 4ms/step - loss: 14.3308 - mae: 2.7500 - mse: 14.3308 - val_loss: 9.6680 - val_mae: 2.6711 - val_mse: 9.6680\n",
      "Epoch 17/20\n",
      "23/23 [==============================] - 0s 4ms/step - loss: 12.9394 - mae: 2.5765 - mse: 12.9394 - val_loss: 9.4456 - val_mae: 2.6146 - val_mse: 9.4456\n",
      "Epoch 18/20\n",
      "23/23 [==============================] - 0s 4ms/step - loss: 12.4784 - mae: 2.5389 - mse: 12.4784 - val_loss: 7.9963 - val_mae: 2.3180 - val_mse: 7.9963\n",
      "Epoch 19/20\n",
      "23/23 [==============================] - 0s 4ms/step - loss: 12.5660 - mae: 2.5133 - mse: 12.5660 - val_loss: 6.9300 - val_mae: 2.2497 - val_mse: 6.9300\n",
      "Epoch 20/20\n",
      "23/23 [==============================] - 0s 4ms/step - loss: 11.0509 - mae: 2.4157 - mse: 11.0509 - val_loss: 6.7493 - val_mae: 2.1974 - val_mse: 6.7493\n"
     ]
    }
   ],
   "source": [
    "history = model.fit(x_train, y_train, batch_size=16, epochs=20, validation_split = 0.1)"
   ]
  },
  {
   "cell_type": "code",
   "execution_count": 201,
   "metadata": {},
   "outputs": [],
   "source": [
    "df_history = pd.DataFrame(history.history)\n",
    "df_history['epoch'] = history.epoch"
   ]
  },
  {
   "cell_type": "code",
   "execution_count": 202,
   "metadata": {},
   "outputs": [
    {
     "data": {
      "text/plain": [
       "<matplotlib.legend.Legend at 0x7fc58762fb10>"
      ]
     },
     "execution_count": 202,
     "metadata": {},
     "output_type": "execute_result"
    },
    {
     "data": {
      "image/png": "[encoded data removed]",
      "text/plain": [
       "<Figure size 432x288 with 1 Axes>"
      ]
     },
     "metadata": {
      "needs_background": "light"
     },
     "output_type": "display_data"
    }
   ],
   "source": [
    "plt.figure()\n",
    "plt.xlabel('Epoch')\n",
    "plt.ylabel('Mean Square Error')\n",
    "plt.plot(df_history['epoch'], df_history['mse'], label='Train Error')\n",
    "plt.plot(df_history['epoch'], df_history['val_mse'], label = 'Val Error')\n",
    "plt.legend()"
   ]
  },
  {
   "cell_type": "code",
   "execution_count": 203,
   "metadata": {},
   "outputs": [
    {
     "name": "stdout",
     "output_type": "stream",
     "text": [
      "4/4 [==============================] - 0s 2ms/step - loss: 20.8003 - mae: 3.1880 - mse: 20.8003\n"
     ]
    },
    {
     "data": {
      "text/plain": [
       "[20.800294876098633, 3.1880152225494385, 20.800294876098633]"
      ]
     },
     "execution_count": 203,
     "metadata": {},
     "output_type": "execute_result"
    }
   ],
   "source": [
    "model.evaluate(x_test, y_test)"
   ]
  },
  {
   "cell_type": "code",
   "execution_count": null,
   "metadata": {},
   "outputs": [],
   "source": []
  },
  {
   "cell_type": "code",
   "execution_count": 194,
   "metadata": {},
   "outputs": [
    {
     "data": {
      "text/html": [
       "<div>\n",
       "<style scoped>\n",
       "    .dataframe tbody tr th:only-of-type {\n",
       "        vertical-align: middle;\n",
       "    }\n",
       "\n",
       "    .dataframe tbody tr th {\n",
       "        vertical-align: top;\n",
       "    }\n",
       "\n",
       "    .dataframe thead th {\n",
       "        text-align: right;\n",
       "    }\n",
       "</style>\n",
       "<table border=\"1\" class=\"dataframe\">\n",
       "  <thead>\n",
       "    <tr style=\"text-align: right;\">\n",
       "      <th></th>\n",
       "      <th>loss</th>\n",
       "      <th>mae</th>\n",
       "      <th>mse</th>\n",
       "      <th>val_loss</th>\n",
       "      <th>val_mae</th>\n",
       "      <th>val_mse</th>\n",
       "      <th>epoch</th>\n",
       "    </tr>\n",
       "  </thead>\n",
       "  <tbody>\n",
       "    <tr>\n",
       "      <th>0</th>\n",
       "      <td>571.304565</td>\n",
       "      <td>22.059896</td>\n",
       "      <td>571.304565</td>\n",
       "      <td>398.482086</td>\n",
       "      <td>19.214630</td>\n",
       "      <td>398.482086</td>\n",
       "      <td>0</td>\n",
       "    </tr>\n",
       "    <tr>\n",
       "      <th>1</th>\n",
       "      <td>382.905853</td>\n",
       "      <td>17.709351</td>\n",
       "      <td>382.905853</td>\n",
       "      <td>191.444809</td>\n",
       "      <td>12.329145</td>\n",
       "      <td>191.444809</td>\n",
       "      <td>1</td>\n",
       "    </tr>\n",
       "    <tr>\n",
       "      <th>2</th>\n",
       "      <td>216.700867</td>\n",
       "      <td>12.338704</td>\n",
       "      <td>216.700867</td>\n",
       "      <td>127.104645</td>\n",
       "      <td>9.675382</td>\n",
       "      <td>127.104645</td>\n",
       "      <td>2</td>\n",
       "    </tr>\n",
       "    <tr>\n",
       "      <th>3</th>\n",
       "      <td>131.801422</td>\n",
       "      <td>8.990683</td>\n",
       "      <td>131.801422</td>\n",
       "      <td>89.736351</td>\n",
       "      <td>7.555581</td>\n",
       "      <td>89.736351</td>\n",
       "      <td>3</td>\n",
       "    </tr>\n",
       "    <tr>\n",
       "      <th>4</th>\n",
       "      <td>96.370644</td>\n",
       "      <td>7.298561</td>\n",
       "      <td>96.370644</td>\n",
       "      <td>70.404312</td>\n",
       "      <td>6.766761</td>\n",
       "      <td>70.404312</td>\n",
       "      <td>4</td>\n",
       "    </tr>\n",
       "  </tbody>\n",
       "</table>\n",
       "</div>"
      ],
      "text/plain": [
       "         loss        mae         mse    val_loss    val_mae     val_mse  epoch\n",
       "0  571.304565  22.059896  571.304565  398.482086  19.214630  398.482086      0\n",
       "1  382.905853  17.709351  382.905853  191.444809  12.329145  191.444809      1\n",
       "2  216.700867  12.338704  216.700867  127.104645   9.675382  127.104645      2\n",
       "3  131.801422   8.990683  131.801422   89.736351   7.555581   89.736351      3\n",
       "4   96.370644   7.298561   96.370644   70.404312   6.766761   70.404312      4"
      ]
     },
     "execution_count": 194,
     "metadata": {},
     "output_type": "execute_result"
    }
   ],
   "source": [
    "df_history"
   ]
  },
  {
   "cell_type": "code",
   "execution_count": null,
   "metadata": {},
   "outputs": [],
   "source": []
  }
 ],
 "metadata": {
  "kernelspec": {
   "display_name": "Environment (conda_tensorflow2_latest_p37)",
   "language": "python",
   "name": "conda_tensorflow2_latest_p37"
  },
  "language_info": {
   "codemirror_mode": {
    "name": "ipython",
    "version": 3
   },
   "file_extension": ".py",
   "mimetype": "text/x-python",
   "name": "python",
   "nbconvert_exporter": "python",
   "pygments_lexer": "ipython3",
   "version": "3.7.6"
  }
 },
 "nbformat": 4,
 "nbformat_minor": 4
}
